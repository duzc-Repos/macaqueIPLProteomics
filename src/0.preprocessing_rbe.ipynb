{
 "cells": [
  {
   "cell_type": "code",
   "execution_count": 5,
   "metadata": {},
   "outputs": [],
   "source": [
    "library(limma)"
   ]
  },
  {
   "cell_type": "code",
   "execution_count": 6,
   "metadata": {},
   "outputs": [],
   "source": [
    "expr = read.table(\"../res/0.preprocessing/sample_expr.tsv\", sep=\"\\t\", header=T, row.names=1)\n",
    "info = read.table(\"../res/0.preprocessing/sample_info.tsv\", sep=\"\\t\", header=T, row.names=1)"
   ]
  },
  {
   "cell_type": "code",
   "execution_count": 8,
   "metadata": {},
   "outputs": [],
   "source": [
    "design = model.matrix(~info[, c(\"Group\")])\n",
    "batch = info$Batch\n",
    "expr_rbe = removeBatchEffect(expr, batch = batch, design = design)"
   ]
  },
  {
   "cell_type": "code",
   "execution_count": 4,
   "metadata": {},
   "outputs": [],
   "source": [
    "write.table(expr_rbe, \"../res/0.preprocessing/sample_expr_rbe.tsv\", sep=\"\\t\", quote=F, row.names=T, col.names=T)"
   ]
  },
  {
   "cell_type": "code",
   "execution_count": null,
   "metadata": {},
   "outputs": [],
   "source": []
  }
 ],
 "metadata": {
  "kernelspec": {
   "display_name": "proteomics",
   "language": "python",
   "name": "python3"
  },
  "language_info": {
   "codemirror_mode": "r",
   "file_extension": ".r",
   "mimetype": "text/x-r-source",
   "name": "python",
   "pygments_lexer": "r",
   "version": "3.8.0 (default, Nov  6 2019, 21:49:08) \n[GCC 7.3.0]"
  },
  "orig_nbformat": 4,
  "vscode": {
   "interpreter": {
    "hash": "96ffef18d96facc3a1d8ea9284376e3649543bced61b7c4df731cb963c226eca"
   }
  }
 },
 "nbformat": 4,
 "nbformat_minor": 2
}
