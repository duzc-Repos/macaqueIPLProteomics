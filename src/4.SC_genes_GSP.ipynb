{
 "cells": [
  {
   "cell_type": "code",
   "execution_count": 1,
   "metadata": {
    "vscode": {
     "languageId": "r"
    }
   },
   "outputs": [],
   "source": [
    "setwd(\"/mnt/d/workdir_for_Linux/work/brainnetome/project/help/macaqueIPLProteomics\")"
   ]
  },
  {
   "cell_type": "code",
   "execution_count": 6,
   "metadata": {
    "vscode": {
     "languageId": "r"
    }
   },
   "outputs": [
    {
     "ename": "ERROR",
     "evalue": "Error in library(org.Mmu.eg.db): there is no package called ‘org.Mmu.eg.db’\n",
     "output_type": "error",
     "traceback": [
      "Error in library(org.Mmu.eg.db): there is no package called ‘org.Mmu.eg.db’\nTraceback:\n",
      "1. library(org.Mmu.eg.db)"
     ]
    }
   ],
   "source": [
    "library(readxl)\n",
    "library(DESeq2)\n",
    "library(ggplot2)\n",
    "#library(clusterProfiler)\n",
    "#library(org.Mmu.eg.db)"
   ]
  },
  {
   "cell_type": "code",
   "execution_count": null,
   "metadata": {
    "vscode": {
     "languageId": "r"
    }
   },
   "outputs": [],
   "source": []
  },
  {
   "cell_type": "code",
   "execution_count": null,
   "metadata": {
    "vscode": {
     "languageId": "r"
    }
   },
   "outputs": [],
   "source": []
  }
 ],
 "metadata": {
  "kernelspec": {
   "display_name": "R",
   "language": "R",
   "name": "ir"
  },
  "language_info": {
   "codemirror_mode": "r",
   "file_extension": ".r",
   "mimetype": "text/x-r-source",
   "name": "R",
   "pygments_lexer": "r",
   "version": "4.2.1"
  },
  "orig_nbformat": 4
 },
 "nbformat": 4,
 "nbformat_minor": 2
}
