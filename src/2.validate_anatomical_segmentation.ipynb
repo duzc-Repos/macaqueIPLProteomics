{
 "cells": [
  {
   "cell_type": "code",
   "execution_count": null,
   "metadata": {},
   "outputs": [],
   "source": [
    "import numpy as np\n",
    "import scipy as sp\n",
    "import pandas as pd\n",
    "\n",
    "import matplotlib.pyplot as plt\n",
    "import seaborn as sns\n",
    "import plotnine as p9\n",
    "from statsmodels.stats.multitest import fdrcorrection\n",
    "\n",
    "from sklearn import preprocessing\n",
    "from sklearn import metrics\n",
    "import networkx as nx\n",
    "import mantel\n",
    "\n",
    "import pickle"
   ]
  }
 ],
 "metadata": {
  "kernelspec": {
   "display_name": "proteomics",
   "language": "python",
   "name": "python3"
  },
  "language_info": {
   "name": "python",
   "version": "3.8.0 (default, Nov  6 2019, 21:49:08) \n[GCC 7.3.0]"
  },
  "orig_nbformat": 4,
  "vscode": {
   "interpreter": {
    "hash": "96ffef18d96facc3a1d8ea9284376e3649543bced61b7c4df731cb963c226eca"
   }
  }
 },
 "nbformat": 4,
 "nbformat_minor": 2
}
