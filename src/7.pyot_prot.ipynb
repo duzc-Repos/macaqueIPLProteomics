{
 "cells": [
  {
   "cell_type": "code",
   "execution_count": 5,
   "metadata": {},
   "outputs": [
    {
     "ename": "ValueError",
     "evalue": "numpy.ndarray size changed, may indicate binary incompatibility. Expected 88 from C header, got 80 from PyObject",
     "output_type": "error",
     "traceback": [
      "\u001b[0;31m---------------------------------------------------------------------------\u001b[0m",
      "\u001b[0;31mValueError\u001b[0m                                Traceback (most recent call last)",
      "\u001b[1;32m/mnt/d/workdir_for_Linux/work/brainnetome/project/help/macaqueIPLProteomics/src/7.pyot_prot.ipynb 单元格 1\u001b[0m in \u001b[0;36m<cell line: 9>\u001b[0;34m()\u001b[0m\n\u001b[1;32m      <a href='vscode-notebook-cell://wsl%2Bubuntu-20.04/mnt/d/workdir_for_Linux/work/brainnetome/project/help/macaqueIPLProteomics/src/7.pyot_prot.ipynb#W0sdnNjb2RlLXJlbW90ZQ%3D%3D?line=5'>6</a>\u001b[0m \u001b[39mimport\u001b[39;00m \u001b[39mmatplotlib\u001b[39;00m\u001b[39m.\u001b[39;00m\u001b[39mpyplot\u001b[39;00m \u001b[39mas\u001b[39;00m \u001b[39mplt\u001b[39;00m\n\u001b[1;32m      <a href='vscode-notebook-cell://wsl%2Bubuntu-20.04/mnt/d/workdir_for_Linux/work/brainnetome/project/help/macaqueIPLProteomics/src/7.pyot_prot.ipynb#W0sdnNjb2RlLXJlbW90ZQ%3D%3D?line=6'>7</a>\u001b[0m \u001b[39mimport\u001b[39;00m \u001b[39mplotnine\u001b[39;00m \u001b[39mas\u001b[39;00m \u001b[39mp9\u001b[39;00m\n\u001b[0;32m----> <a href='vscode-notebook-cell://wsl%2Bubuntu-20.04/mnt/d/workdir_for_Linux/work/brainnetome/project/help/macaqueIPLProteomics/src/7.pyot_prot.ipynb#W0sdnNjb2RlLXJlbW90ZQ%3D%3D?line=8'>9</a>\u001b[0m \u001b[39mimport\u001b[39;00m \u001b[39mot\u001b[39;00m\n\u001b[1;32m     <a href='vscode-notebook-cell://wsl%2Bubuntu-20.04/mnt/d/workdir_for_Linux/work/brainnetome/project/help/macaqueIPLProteomics/src/7.pyot_prot.ipynb#W0sdnNjb2RlLXJlbW90ZQ%3D%3D?line=9'>10</a>\u001b[0m \u001b[39mimport\u001b[39;00m \u001b[39mbrainsmash\u001b[39;00m \u001b[39mas\u001b[39;00m \u001b[39mbs\u001b[39;00m\n",
      "File \u001b[0;32m/mnt/d/workdir_for_Linux/software/Miniconda3/envs/proteomics/lib/python3.8/site-packages/ot/__init__.py:22\u001b[0m, in \u001b[0;36m<module>\u001b[0;34m\u001b[0m\n\u001b[1;32m      1\u001b[0m \u001b[39m\"\"\"\u001b[39;00m\n\u001b[1;32m      2\u001b[0m \u001b[39m.. warning::\u001b[39;00m\n\u001b[1;32m      3\u001b[0m \u001b[39m    The list of automatically imported sub-modules is as follows:\u001b[39;00m\n\u001b[0;32m   (...)\u001b[0m\n\u001b[1;32m     12\u001b[0m \u001b[39m    - :any:`ot.plot` : depends on :code:`matplotlib`\u001b[39;00m\n\u001b[1;32m     13\u001b[0m \u001b[39m\"\"\"\u001b[39;00m\n\u001b[1;32m     15\u001b[0m \u001b[39m# Author: Remi Flamary <remi.flamary@unice.fr>\u001b[39;00m\n\u001b[1;32m     16\u001b[0m \u001b[39m#         Nicolas Courty <ncourty@irisa.fr>\u001b[39;00m\n\u001b[1;32m     17\u001b[0m \u001b[39m#\u001b[39;00m\n\u001b[0;32m   (...)\u001b[0m\n\u001b[1;32m     20\u001b[0m \n\u001b[1;32m     21\u001b[0m \u001b[39m# All submodules and packages\u001b[39;00m\n\u001b[0;32m---> 22\u001b[0m \u001b[39mfrom\u001b[39;00m \u001b[39m.\u001b[39;00m \u001b[39mimport\u001b[39;00m lp\n\u001b[1;32m     23\u001b[0m \u001b[39mfrom\u001b[39;00m \u001b[39m.\u001b[39;00m \u001b[39mimport\u001b[39;00m bregman\n\u001b[1;32m     24\u001b[0m \u001b[39mfrom\u001b[39;00m \u001b[39m.\u001b[39;00m \u001b[39mimport\u001b[39;00m optim\n",
      "File \u001b[0;32m/mnt/d/workdir_for_Linux/software/Miniconda3/envs/proteomics/lib/python3.8/site-packages/ot/lp/__init__.py:22\u001b[0m, in \u001b[0;36m<module>\u001b[0;34m\u001b[0m\n\u001b[1;32m     19\u001b[0m \u001b[39mfrom\u001b[39;00m \u001b[39m.\u001b[39;00m\u001b[39mcvx\u001b[39;00m \u001b[39mimport\u001b[39;00m barycenter\n\u001b[1;32m     21\u001b[0m \u001b[39m# import compiled emd\u001b[39;00m\n\u001b[0;32m---> 22\u001b[0m \u001b[39mfrom\u001b[39;00m \u001b[39m.\u001b[39;00m\u001b[39memd_wrap\u001b[39;00m \u001b[39mimport\u001b[39;00m emd_c, check_result, emd_1d_sorted\n\u001b[1;32m     23\u001b[0m \u001b[39mfrom\u001b[39;00m \u001b[39m.\u001b[39;00m\u001b[39msolver_1d\u001b[39;00m \u001b[39mimport\u001b[39;00m emd_1d, emd2_1d, wasserstein_1d\n\u001b[1;32m     25\u001b[0m \u001b[39mfrom\u001b[39;00m \u001b[39m.\u001b[39;00m\u001b[39m.\u001b[39;00m\u001b[39mutils\u001b[39;00m \u001b[39mimport\u001b[39;00m dist, list_to_array\n",
      "File \u001b[0;32mot/lp/emd_wrap.pyx:1\u001b[0m, in \u001b[0;36minit ot.lp.emd_wrap\u001b[0;34m()\u001b[0m\n",
      "\u001b[0;31mValueError\u001b[0m: numpy.ndarray size changed, may indicate binary incompatibility. Expected 88 from C header, got 80 from PyObject"
     ]
    }
   ],
   "source": [
    "import pandas as pd\n",
    "import numpy as np\n",
    "from sklearn import metrics\n",
    "from sklearn.preprocessing import minmax_scale\n",
    "\n",
    "import matplotlib.pyplot as plt\n",
    "import plotnine as p9\n",
    "\n",
    "import ot\n",
    "import brainsmash as bs"
   ]
  },
  {
   "cell_type": "code",
   "execution_count": 7,
   "metadata": {},
   "outputs": [],
   "source": [
    "sample_expr_L = pd.read_csv(\"../res/4.SC_exploration/sample_expr_L.tsv\", sep=\"\\t\", header=0, index_col=0)\n",
    "sample_info_L = pd.read_csv(\"../res/4.SC_exploration/sample_info_L.tsv\", sep=\"\\t\", header=0, index_col=0)\n",
    "sample_expr_R = pd.read_csv(\"../res/4.SC_exploration/sample_expr_R.tsv\", sep=\"\\t\", header=0, index_col=0)\n",
    "sample_info_R = pd.read_csv(\"../res/4.SC_exploration/sample_info_R.tsv\", sep=\"\\t\", header=0, index_col=0)"
   ]
  },
  {
   "cell_type": "code",
   "execution_count": 37,
   "metadata": {},
   "outputs": [],
   "source": [
    "M_L = metrics.pairwise_distances( sample_info_L[[\"x\", \"y\", \"z\"]])\n",
    "M_R = metrics.pairwise_distances( sample_info_R[[\"x\", \"y\", \"z\"]])"
   ]
  },
  {
   "cell_type": "code",
   "execution_count": 3,
   "metadata": {},
   "outputs": [
    {
     "ename": "NameError",
     "evalue": "name 'M_L' is not defined",
     "output_type": "error",
     "traceback": [
      "\u001b[0;31m---------------------------------------------------------------------------\u001b[0m",
      "\u001b[0;31mNameError\u001b[0m                                 Traceback (most recent call last)",
      "\u001b[1;32m/mnt/d/workdir_for_Linux/work/brainnetome/project/help/macaqueIPLProteomics/src/7.pyot_prot.ipynb 单元格 4\u001b[0m in \u001b[0;36m<cell line: 17>\u001b[0;34m()\u001b[0m\n\u001b[1;32m     <a href='vscode-notebook-cell://wsl%2Bubuntu-20.04/mnt/d/workdir_for_Linux/work/brainnetome/project/help/macaqueIPLProteomics/src/7.pyot_prot.ipynb#W3sdnNjb2RlLXJlbW90ZQ%3D%3D?line=13'>14</a>\u001b[0m     \u001b[39mreturn\u001b[39;00m S\n\u001b[1;32m     <a href='vscode-notebook-cell://wsl%2Bubuntu-20.04/mnt/d/workdir_for_Linux/work/brainnetome/project/help/macaqueIPLProteomics/src/7.pyot_prot.ipynb#W3sdnNjb2RlLXJlbW90ZQ%3D%3D?line=15'>16</a>\u001b[0m res \u001b[39m=\u001b[39m {}\n\u001b[0;32m---> <a href='vscode-notebook-cell://wsl%2Bubuntu-20.04/mnt/d/workdir_for_Linux/work/brainnetome/project/help/macaqueIPLProteomics/src/7.pyot_prot.ipynb#W3sdnNjb2RlLXJlbW90ZQ%3D%3D?line=16'>17</a>\u001b[0m M \u001b[39m=\u001b[39m M_L\u001b[39m/\u001b[39mM_L\u001b[39m.\u001b[39mmax()\n\u001b[1;32m     <a href='vscode-notebook-cell://wsl%2Bubuntu-20.04/mnt/d/workdir_for_Linux/work/brainnetome/project/help/macaqueIPLProteomics/src/7.pyot_prot.ipynb#W3sdnNjb2RlLXJlbW90ZQ%3D%3D?line=17'>18</a>\u001b[0m \u001b[39mfor\u001b[39;00m line \u001b[39min\u001b[39;00m \u001b[39mopen\u001b[39m(\u001b[39m\"\u001b[39m\u001b[39m./macaque_lr_database.tsv\u001b[39m\u001b[39m\"\u001b[39m):\n\u001b[1;32m     <a href='vscode-notebook-cell://wsl%2Bubuntu-20.04/mnt/d/workdir_for_Linux/work/brainnetome/project/help/macaqueIPLProteomics/src/7.pyot_prot.ipynb#W3sdnNjb2RlLXJlbW90ZQ%3D%3D?line=18'>19</a>\u001b[0m     s \u001b[39m=\u001b[39m line\u001b[39m.\u001b[39mstrip()\u001b[39m.\u001b[39msplit(\u001b[39m\"\u001b[39m\u001b[39m\\t\u001b[39;00m\u001b[39m\"\u001b[39m)\n",
      "\u001b[0;31mNameError\u001b[0m: name 'M_L' is not defined"
     ]
    }
   ],
   "source": [
    "def calc_lr_ot(l, r, d, expr, reg=0.2):\n",
    "    w_l = minmax_scale(np.array(expr.loc[l, :]).mean(axis=0) )\n",
    "    w_l = w_l / w_l.sum()\n",
    "    w_r = minmax_scale(np.array(expr.loc[r, :]).mean(axis=0) )\n",
    "    w_r = w_r / w_r.sum()\n",
    "\n",
    "    S = np.zeros(shape=(len(w_l), len(w_r)))\n",
    "    non_zeros_l, non_zeros_r = np.where(w_l>0)[0], np.where(w_r>0)[0]\n",
    "    gamma = ot.sinkhorn(w_l[non_zeros_l], w_r[non_zeros_r], M[non_zeros_l, :][:, non_zeros_r], reg=reg)\n",
    "    for i, l in enumerate(non_zeros_l):\n",
    "        for j, m in enumerate(non_zeros_r):\n",
    "            S[l, m] = gamma[i, j]\n",
    "    S /= S.max()\n",
    "    return S\n",
    "\n",
    "res = {}\n",
    "M = M_L/M_L.max()\n",
    "for line in open(\"./macaque_lr_database.tsv\"):\n",
    "    s = line.strip().split(\"\\t\")\n",
    "    if s[-1] != \"Secreted Signaling\":\n",
    "        continue\n",
    "    l, r = s[0].strip().split(\" - \")\n",
    "    l = [ i for i in l.strip().split() if i in sample_expr_L.index]\n",
    "    r = [ i for i in r.strip().strip(\"()\").split(\"+\") if i in sample_expr_L.index]\n",
    "\n",
    "    if len(l) == 0 or len(r) == 0:\n",
    "        continue\n",
    "\n",
    "    S = calc_lr_ot(l, r, M, sample_expr_L, reg=0.2)\n",
    "\n",
    "    res[s[0]] = {\"strength\":S.copy(), \"annot\":s[1:].copy()}\n",
    "\n"
   ]
  },
  {
   "cell_type": "code",
   "execution_count": 83,
   "metadata": {},
   "outputs": [
    {
     "data": {
      "text/plain": [
       "12"
      ]
     },
     "execution_count": 83,
     "metadata": {},
     "output_type": "execute_result"
    }
   ],
   "source": [
    "len(res)"
   ]
  },
  {
   "cell_type": "code",
   "execution_count": 78,
   "metadata": {},
   "outputs": [
    {
     "data": {
      "image/png": "[encoded data removed]",
      "text/plain": [
       "<Figure size 432x288 with 1 Axes>"
      ]
     },
     "metadata": {
      "needs_background": "light"
     },
     "output_type": "display_data"
    }
   ],
   "source": [
    "\n",
    "\n",
    "plt.imshow(S)\n",
    "plt.show()"
   ]
  },
  {
   "cell_type": "code",
   "execution_count": 40,
   "metadata": {},
   "outputs": [
    {
     "data": {
      "image/png": "[encoded data removed]",
      "text/plain": [
       "<Figure size 432x288 with 1 Axes>"
      ]
     },
     "metadata": {
      "needs_background": "light"
     },
     "output_type": "display_data"
    }
   ],
   "source": [
    "plt.hist( (M_L / M_L.max()).ravel(), bins=100)\n",
    "plt.show()"
   ]
  },
  {
   "cell_type": "code",
   "execution_count": null,
   "metadata": {},
   "outputs": [],
   "source": []
  }
 ],
 "metadata": {
  "kernelspec": {
   "display_name": "proteomics",
   "language": "python",
   "name": "python3"
  },
  "language_info": {
   "codemirror_mode": {
    "name": "ipython",
    "version": 3
   },
   "file_extension": ".py",
   "mimetype": "text/x-python",
   "name": "python",
   "nbconvert_exporter": "python",
   "pygments_lexer": "ipython3",
   "version": "3.8.0"
  },
  "orig_nbformat": 4,
  "vscode": {
   "interpreter": {
    "hash": "96ffef18d96facc3a1d8ea9284376e3649543bced61b7c4df731cb963c226eca"
   }
  }
 },
 "nbformat": 4,
 "nbformat_minor": 2
}
